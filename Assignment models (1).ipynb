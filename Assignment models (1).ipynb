{
 "cells": [
  {
   "cell_type": "markdown",
   "id": "1164f703-733c-48f5-aeec-10446a459707",
   "metadata": {},
   "source": [
    "# Assignment Problem - Assign Project to Employee"
   ]
  },
  {
   "cell_type": "code",
   "execution_count": 24,
   "id": "b50ec351-bb56-4000-bed0-bb70d7b97333",
   "metadata": {},
   "outputs": [
    {
     "data": {
      "text/plain": [
       "1"
      ]
     },
     "execution_count": 24,
     "metadata": {},
     "output_type": "execute_result"
    }
   ],
   "source": [
    "import pulp\n",
    "\n",
    "model = pulp.LpProblem(\"Assignment Problem\", pulp.LpMinimize)\n",
    "\n",
    "workers = [\"A\", \"B\", \"C\"]\n",
    "projects = [\"1\", \"2\", \"3\"]\n",
    "\n",
    "cost = [[11, 14, 6], [8, 10, 11], [9, 12, 7]]\n",
    "cost = {(workers[i], projects[j]): cost[i][j] for i in range(len(workers)) for j in range(len(projects))}\n",
    "\n",
    "X = pulp.LpVariable.dicts(\"v\", [(i, j) for i in workers for j in projects], cat='Binary')\n",
    "\n",
    "model += pulp.lpSum(X[i, j] * cost[(i,j)] for i in workers for j in projects)\n",
    "\n",
    "'''\n",
    "We need to enforce that the total flow out of each worker node should be equal to 1. \n",
    "This represents the availability of each worker to be assigned to one project. \n",
    "'''\n",
    "for i in workers:\n",
    "    model += pulp.lpSum(X[i, j] for j in projects) == 1, f\"{i} availability\"\n",
    "\n",
    "'''\n",
    "We need to enforce that the total flow into each project node should be equal to 1.\n",
    "This represents the requirement for one worker to be assigned to each project. T\n",
    "'''\n",
    "for j in projects:\n",
    "    model += pulp.lpSum(X[i, j] for i in workers) == 1, f\"project {j} requirement\"\n",
    "\n",
    "model.solve()"
   ]
  },
  {
   "cell_type": "code",
   "execution_count": 25,
   "id": "4fff3b97-2241-4df9-ad73-b7f925a355a1",
   "metadata": {},
   "outputs": [
    {
     "name": "stdout",
     "output_type": "stream",
     "text": [
      "Status: Optimal\n",
      "Minimum total cost: 25.0\n",
      "v_A1 = 0.0\n",
      "v_A2 = 0.0\n",
      "v_A3 = 1.0\n",
      "v_B1 = 0.0\n",
      "v_B2 = 1.0\n",
      "v_B3 = 0.0\n",
      "v_C1 = 1.0\n",
      "v_C2 = 0.0\n",
      "v_C3 = 0.0\n"
     ]
    }
   ],
   "source": [
    "print(\"Status:\", pulp.LpStatus[model.status])\n",
    "print(\"Minimum total cost:\", pulp.value(model.objective))\n",
    "\n",
    "for i in workers:\n",
    "    for j in projects:\n",
    "        print(f\"v_{i+j} = {X[i, j].value()}\")\n"
   ]
  },
  {
   "cell_type": "markdown",
   "id": "b15578e5-8882-45f4-b4f1-07869a967515",
   "metadata": {},
   "source": [
    "# Maximal Flow Model"
   ]
  },
  {
   "cell_type": "code",
   "execution_count": 28,
   "id": "c4d11d4b-5ad7-4bd7-989a-021b2921a2fa",
   "metadata": {},
   "outputs": [
    {
     "name": "stdout",
     "output_type": "stream",
     "text": [
      "Status: Optimal\n",
      "Maximum Flow: 3.0\n",
      "Flow from A to B: 1.0\n",
      "Flow from B to C: 1.0\n",
      "Flow from C to A: 1.0\n"
     ]
    }
   ],
   "source": [
    "import pulp\n",
    "\n",
    "# Create the model\n",
    "model = pulp.LpProblem(\"Maximal Flow\", pulp.LpMaximize)\n",
    "\n",
    "# Create the decision variables\n",
    "flow = pulp.LpVariable.dicts(\"Flow\", [(\"A\", \"B\"), (\"B\", \"C\"), (\"C\", \"A\")], lowBound=0, cat='Continuous')\n",
    "\n",
    "# Create the objective function\n",
    "model += pulp.lpSum(flow[(\"A\", \"B\")] + flow[(\"B\", \"C\")] + flow[(\"C\", \"A\")])\n",
    "\n",
    "# Create the constraints\n",
    "model += flow[(\"A\", \"B\")] <= 2, \"A_B_capacity\"\n",
    "model += flow[(\"B\", \"C\")] <= 2, \"B_C_capacity\"\n",
    "model += flow[(\"C\", \"A\")] <= 2, \"C_A_capacity\"\n",
    "\n",
    "model += flow[(\"A\", \"B\")] == 1, \"A_balance\"\n",
    "model += flow[(\"B\", \"C\")] == 1, \"B_balance\"\n",
    "model += flow[(\"C\", \"A\")] == 1, \"C_balance\"\n",
    "\n",
    "# Solve the model\n",
    "model.solve()\n",
    "\n",
    "# Print the results\n",
    "print(\"Status:\", pulp.LpStatus[model.status])\n",
    "print(\"Maximum Flow:\", pulp.value(model.objective))\n",
    "for var in flow:\n",
    "    print(f\"Flow from {var[0]} to {var[1]}: {flow[var].value()}\")"
   ]
  },
  {
   "cell_type": "raw",
   "id": "4a963b17-310a-46cb-86b1-ebdb00a5e09b",
   "metadata": {},
   "source": [
    "!pip install pyvis"
   ]
  },
  {
   "cell_type": "code",
   "execution_count": 5,
   "id": "9fb86ba1-b7b1-4d44-9874-8e32dd2ab373",
   "metadata": {},
   "outputs": [
    {
     "name": "stdout",
     "output_type": "stream",
     "text": [
      "Maximal flow from node 1 to node 6: 5.0\n",
      "Flow from node 1 to node 2: 2.0\n",
      "Flow from node 1 to node 4: 1.0\n",
      "Flow from node 1 to node 3: 2.0\n",
      "Flow from node 2 to node 1: 0.0\n",
      "Flow from node 2 to node 4: 0.0\n",
      "Flow from node 2 to node 6: 2.0\n",
      "Flow from node 3 to node 4: 0.0\n",
      "Flow from node 3 to node 5: 2.0\n",
      "Flow from node 4 to node 2: 0.0\n",
      "Flow from node 4 to node 3: 0.0\n",
      "Flow from node 4 to node 6: 1.0\n",
      "Flow from node 5 to node 3: 0.0\n",
      "Flow from node 5 to node 6: 2.0\n",
      "Flow from node 6 to node 1: 5.0\n",
      "Flow from node 6 to node 2: 0.0\n",
      "Flow from node 6 to node 4: 0.0\n"
     ]
    }
   ],
   "source": [
    "import pulp\n",
    "\n",
    "# Define the model\n",
    "model = pulp.LpProblem(\"Maximal Flow Model\", pulp.LpMaximize)\n",
    "\n",
    "# Define the decision variables\n",
    "flow = {(\"1\", \"2\"): pulp.LpVariable(\"Flow_1_2\", 0, 3, pulp.LpInteger),\n",
    "        (\"1\", \"4\"): pulp.LpVariable(\"Flow_1_4\", 0, 2, pulp.LpInteger),\n",
    "        (\"1\", \"3\"): pulp.LpVariable(\"Flow_1_3\", 0, 10, pulp.LpInteger),\n",
    "        (\"2\", \"1\"): pulp.LpVariable(\"Flow_2_1\", 0, 1, pulp.LpInteger),\n",
    "        (\"2\", \"4\"): pulp.LpVariable(\"Flow_2_4\", 0, 1, pulp.LpInteger),\n",
    "        (\"2\", \"6\"): pulp.LpVariable(\"Flow_2_6\", 0, 2, pulp.LpInteger),\n",
    "        (\"3\", \"4\"): pulp.LpVariable(\"Flow_3_4\", 0, 3, pulp.LpInteger),\n",
    "        (\"3\", \"5\"): pulp.LpVariable(\"Flow_3_5\", 0, 2, pulp.LpInteger),\n",
    "        (\"4\", \"2\"): pulp.LpVariable(\"Flow_4_2\", 0, 1, pulp.LpInteger),\n",
    "        (\"4\", \"3\"): pulp.LpVariable(\"Flow_4_3\", 0, 1, pulp.LpInteger),\n",
    "        (\"4\", \"6\"): pulp.LpVariable(\"Flow_4_6\", 0, 1, pulp.LpInteger),\n",
    "        (\"5\", \"3\"): pulp.LpVariable(\"Flow_5_3\", 0, 1, pulp.LpInteger),\n",
    "        (\"5\", \"6\"): pulp.LpVariable(\"Flow_5_6\", 0, 6, pulp.LpInteger),\n",
    "        (\"6\", \"1\"): pulp.LpVariable(\"Flow_6_1\", 0, 1000, pulp.LpInteger),\n",
    "        (\"6\", \"2\"): pulp.LpVariable(\"Flow_6_2\", 0, 2, pulp.LpInteger),\n",
    "        (\"6\", \"4\"): pulp.LpVariable(\"Flow_6_4\", 0, 1, pulp.LpInteger)\n",
    "        }\n",
    "\n",
    "# Define the objective function\n",
    "model += pulp.lpSum([flow[(\"6\", \"1\")]]), \"Maximal flow from node 1 to node 6\"\n",
    "\n",
    "'''\n",
    "The flow balance constraints ensure that the flow into a node is equal to the flow out of a node for each node in the network. In other words, the total flow into a node must equal the total flow out of a node, excluding the source node and the sink node.\n",
    "\n",
    "For example, for node i, the flow balance constraint can be expressed as:\n",
    "\n",
    "flow_in_i = flow_out_i\n",
    "\n",
    "where flow_in_i is the sum of all the flows into node i and flow_out_i is the sum of all the flows out of node i.\n",
    "\n",
    "In the code, this can be written as follows:\n",
    "\n",
    "model += flow[(j, i)] - flow[(i, j)] == 0, f\"Node {i} balance\"\n",
    "\n",
    "where j and i are the nodes connected by the flow.\n",
    "'''\n",
    "\n",
    "# Define the flow balance constraints\n",
    "model += flow[(\"6\", \"1\")] + flow[(\"2\", \"1\")] - flow[(\"1\", \"2\")] - flow[(\"1\", \"4\")] - flow[(\"1\", \"3\")] == 0, \"Node 1 balance\"\n",
    "model += flow[(\"1\", \"2\")] + flow[(\"4\", \"2\")] + flow[(\"6\", \"2\")] - flow[(\"2\", \"1\")] - flow[(\"2\", \"4\")] - flow[(\"2\", \"6\")] == 0, \"Node 2 balance\"\n",
    "model += flow[(\"1\", \"3\")] + flow[(\"4\", \"3\")] + flow[(\"5\", \"3\")] - flow[(\"3\", \"4\")] - flow[(\"3\", \"5\")] == 0, \"Node 3 balance\"\n",
    "model += flow[(\"1\", \"4\")] + flow[(\"2\", \"4\")] + flow[(\"3\", \"4\")] + flow[(\"6\", \"4\")]- flow[(\"4\", \"3\")] - flow[(\"4\", \"2\")] - flow[(\"4\", \"6\")] == 0, \"Node 4 balance\"\n",
    "model += flow[(\"3\", \"5\")] - flow[(\"5\", \"3\")] - flow[(\"5\", \"6\")] == 0, \"Node 5 balance\"\n",
    "model += flow[(\"5\", \"6\")] + flow[(\"4\", \"6\")] + flow[(\"2\", \"6\")]- flow[(\"6\", \"1\")] - flow[(\"6\", \"2\")] - flow[(\"6\", \"4\")]== 0, \"Node 6 balance\"\n",
    "\n",
    "# Solve the model\n",
    "model.solve()\n",
    "\n",
    "# Print the results\n",
    "print(\"Maximal flow from node 1 to node 6: {}\".format(pulp.value(model.objective)))\n",
    "for edge, variable in flow.items():\n",
    "    print(\"Flow from node {} to node {}: {}\".format(edge[0], edge[1], variable.value()))\n"
   ]
  },
  {
   "cell_type": "markdown",
   "id": "be40eb83-9989-45cf-858e-5d196a56ad85",
   "metadata": {},
   "source": [
    "# Shortest-Path Model"
   ]
  },
  {
   "cell_type": "markdown",
   "id": "c5a354e9-8e82-43df-a939-c14d89ddb605",
   "metadata": {},
   "source": [
    "The objective function minimizes the total distance traveled by the flow between the nodes and the flow balance constraints ensure that the flow into a node is equal to the flow out of a node for each node in the network. The results will show the maximal flow from node 1 to node 6 and the flow from each node to another node."
   ]
  },
  {
   "cell_type": "code",
   "execution_count": 17,
   "id": "0a625add-3278-4468-90af-809495eb126b",
   "metadata": {},
   "outputs": [
    {
     "data": {
      "text/plain": [
       "1"
      ]
     },
     "execution_count": 17,
     "metadata": {},
     "output_type": "execute_result"
    }
   ],
   "source": [
    "import pulp\n",
    "\n",
    "# Define the model\n",
    "model = pulp.LpProblem(\"Shortest Path Model\", pulp.LpMinimize)\n",
    "\n",
    "# Define the decision variables\n",
    "flow = {(\"1\", \"2\"): pulp.LpVariable(\"Flow_1_2\", 0, 100, pulp.LpInteger),\n",
    "        (\"2\", \"1\"): pulp.LpVariable(\"Flow_2_1\", 0, 100, pulp.LpInteger),\n",
    "        (\"1\", \"3\"): pulp.LpVariable(\"Flow_1_3\", 0, 200, pulp.LpInteger),\n",
    "        (\"3\", \"1\"): pulp.LpVariable(\"Flow_3_1\", 0, 200, pulp.LpInteger),\n",
    "        (\"2\", \"3\"): pulp.LpVariable(\"Flow_2_3\", 0, 50, pulp.LpInteger),\n",
    "        (\"3\", \"2\"): pulp.LpVariable(\"Flow_3_2\", 0, 50, pulp.LpInteger),\n",
    "        (\"2\", \"4\"): pulp.LpVariable(\"Flow_2_4\", 0, 200, pulp.LpInteger),\n",
    "        (\"4\", \"2\"): pulp.LpVariable(\"Flow_4_2\", 0, 200, pulp.LpInteger),\n",
    "        (\"2\", \"5\"): pulp.LpVariable(\"Flow_2_5\", 0, 100, pulp.LpInteger),\n",
    "        (\"5\", \"2\"): pulp.LpVariable(\"Flow_5_2\", 0, 100, pulp.LpInteger),\n",
    "        (\"3\", \"5\"): pulp.LpVariable(\"Flow_3_5\", 0, 40, pulp.LpInteger),\n",
    "        (\"5\", \"3\"): pulp.LpVariable(\"Flow_5_3\", 0, 40, pulp.LpInteger),\n",
    "        (\"4\", \"5\"): pulp.LpVariable(\"Flow_4_5\", 0, 150, pulp.LpInteger),\n",
    "        (\"5\", \"4\"): pulp.LpVariable(\"Flow_5_4\", 0, 150, pulp.LpInteger),\n",
    "        (\"4\", \"6\"): pulp.LpVariable(\"Flow_4_6\", 0, 100, pulp.LpInteger),\n",
    "        (\"6\", \"4\"): pulp.LpVariable(\"Flow_6_4\", 0, 100, pulp.LpInteger),\n",
    "        (\"5\", \"6\"): pulp.LpVariable(\"Flow_5_6\", 0, 100, pulp.LpInteger),\n",
    "        (\"6\", \"5\"): pulp.LpVariable(\"Flow_6_5\", 0, 100, pulp.LpInteger)\n",
    "        }\n",
    "\n",
    "'''\n",
    "This objective function minimizes the total distance traveled by the flow between the nodes. \n",
    "The distance between each pair of nodes is multiplied by the flow variable representing the flow between these nodes.\n",
    "\n",
    "model += pulp.lpSum([flow[(u, v)] * dist[(u, v)] for u, v in flow.keys()]), \"Minimal Distance\"\n",
    "'''\n",
    "\n",
    "# Define the objective function\n",
    "model += pulp.lpSum([flow[(\"1\", \"2\")] * 100, flow[(\"2\", \"1\")] * 100, flow[(\"1\", \"3\")] * 200,\n",
    "flow[(\"3\", \"1\")] * 200, flow[(\"2\", \"3\")] * 50, flow[(\"3\", \"2\")] * 50,\n",
    "flow[(\"2\", \"4\")] * 200, flow[(\"4\", \"2\")] * 200, flow[(\"2\", \"5\")] * 100,\n",
    "flow[(\"5\", \"2\")] * 100, flow[(\"3\", \"5\")] * 40, flow[(\"5\", \"3\")] * 40,\n",
    "flow[(\"4\", \"5\")] * 150, flow[(\"5\", \"4\")] * 150, flow[(\"4\", \"6\")] * 100,\n",
    "flow[(\"6\", \"4\")] * 100, flow[(\"5\", \"6\")] * 100, flow[(\"6\", \"5\")] * 100]), \"Minimal Distance\"\n",
    "\n",
    "'''\n",
    "The flow balance constraints ensure that the flow into a node is equal to the flow out of a node for each node in the network. In other words, the total flow into a node must equal the total flow out of a node, excluding the source node and the sink node.\n",
    "\n",
    "For example, for node i, the flow balance constraint can be expressed as:\n",
    "\n",
    "flow_in_i = flow_out_i\n",
    "\n",
    "where flow_in_i is the sum of all the flows into node i and flow_out_i is the sum of all the flows out of node i.\n",
    "\n",
    "In the code, this can be written as follows:\n",
    "\n",
    "model += flow[(j, i)] - flow[(i, j)] == 0, f\"Node {i} balance\"\n",
    "\n",
    "where j and i are the nodes connected by the flow.\n",
    "'''\n",
    "# Define the flow balance constraints\n",
    "model += flow[(\"2\", \"1\")] + flow[(\"3\", \"1\")] - flow[(\"1\", \"2\")] - flow[(\"1\", \"3\")] == -1, \"Supply of 1 unit in Node 1\"\n",
    "model += flow[(\"1\", \"2\")] + flow[(\"3\", \"2\")] + flow[(\"4\", \"2\")] + flow[(\"5\", \"2\")] - flow[(\"2\", \"1\")] - flow[(\"2\", \"3\")] - flow[(\"2\", \"4\")] - flow[(\"2\", \"5\")] == 0, \"Node 2 balance\"\n",
    "model += flow[(\"1\", \"3\")] + flow[(\"2\", \"3\")] + flow[(\"5\", \"3\")] - flow[(\"3\", \"1\")] - flow[(\"3\", \"2\")] -  flow[(\"3\", \"5\")] == 0, \"Node 3 balance\"\n",
    "model += flow[(\"2\", \"4\")] + flow[(\"5\", \"4\")] + flow[(\"6\", \"4\")] - flow[(\"4\", \"2\")] - flow[(\"4\", \"5\")] - flow[(\"4\", \"6\")] == 0, \"Node 4 balance\"\n",
    "model += flow[(\"2\", \"5\")] + flow[(\"3\", \"5\")] +  flow[(\"4\", \"5\")] +  flow[(\"6\", \"5\")] -  flow[(\"5\", \"2\")] - flow[(\"5\", \"3\")] -  flow[(\"5\", \"4\")] -  flow[(\"5\", \"6\")] == 0, \"Node 5 balance\"\n",
    "model += flow[(\"4\", \"6\")] + flow[(\"5\", \"6\")] - flow[(\"6\", \"4\")] - flow[(\"6\", \"5\")] == 1, \"Demand of 1 unit in Node 6\"\n",
    "\n",
    "# Solve the model\n",
    "model.solve()"
   ]
  },
  {
   "cell_type": "code",
   "execution_count": 18,
   "id": "5fe6bbf9-3df2-43eb-95cd-d5425b74e051",
   "metadata": {},
   "outputs": [
    {
     "name": "stdout",
     "output_type": "stream",
     "text": [
      "Maximal flow from node 1 to node 6: 290.0\n",
      "Flow from node 1 to node 2: 1.0\n",
      "Flow from node 2 to node 1: 0.0\n",
      "Flow from node 1 to node 3: 0.0\n",
      "Flow from node 3 to node 1: 0.0\n",
      "Flow from node 2 to node 3: 1.0\n",
      "Flow from node 3 to node 2: 0.0\n",
      "Flow from node 2 to node 4: 0.0\n",
      "Flow from node 4 to node 2: 0.0\n",
      "Flow from node 2 to node 5: 0.0\n",
      "Flow from node 5 to node 2: 0.0\n",
      "Flow from node 3 to node 5: 1.0\n",
      "Flow from node 5 to node 3: 0.0\n",
      "Flow from node 4 to node 5: 0.0\n",
      "Flow from node 5 to node 4: 0.0\n",
      "Flow from node 4 to node 6: 0.0\n",
      "Flow from node 6 to node 4: 0.0\n",
      "Flow from node 5 to node 6: 1.0\n",
      "Flow from node 6 to node 5: 0.0\n"
     ]
    }
   ],
   "source": [
    "# Print the results\n",
    "print(\"Maximal flow from node 1 to node 6: {}\".format(pulp.value(model.objective)))\n",
    "for edge, variable in flow.items():\n",
    "    print(\"Flow from node {} to node {}: {}\".format(edge[0], edge[1], variable.value()))\n"
   ]
  },
  {
   "cell_type": "code",
   "execution_count": null,
   "id": "5c1e865d-46bb-4cd1-a850-a3329c172773",
   "metadata": {},
   "outputs": [],
   "source": []
  }
 ],
 "metadata": {
  "kernelspec": {
   "display_name": "Python 3 (ipykernel)",
   "language": "python",
   "name": "python3"
  },
  "language_info": {
   "codemirror_mode": {
    "name": "ipython",
    "version": 3
   },
   "file_extension": ".py",
   "mimetype": "text/x-python",
   "name": "python",
   "nbconvert_exporter": "python",
   "pygments_lexer": "ipython3",
   "version": "3.9.13"
  }
 },
 "nbformat": 4,
 "nbformat_minor": 5
}
